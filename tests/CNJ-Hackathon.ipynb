{
 "cells": [
  {
   "cell_type": "code",
   "execution_count": 1,
   "metadata": {},
   "outputs": [],
   "source": [
    "import os\n",
    "import pathlib\n",
    "import pandas as pd\n",
    "import glob\n",
    "\n",
    "#from flask import Flask, jsonify, request\n",
    "#from flask_restplus import reqparse, abort, Api, Resource, fields\n",
    "\n",
    "\n",
    "ROOT_DIR = pathlib.Path.cwd()\n",
    "DATA_DIR = os.path.join(ROOT_DIR, \"Data/base/justica_trabalho/processos-trt1\")\n",
    "\n"
   ]
  },
  {
   "cell_type": "code",
   "execution_count": 2,
   "metadata": {},
   "outputs": [
    {
     "name": "stdout",
     "output_type": "stream",
     "text": [
      "/media/pabloernesto/Series - Seagate Expansion Drive/CNJ-Hackathon\n",
      "/media/pabloernesto/Series - Seagate Expansion Drive/CNJ-Hackathon/Data/base/justica_trabalho/processos-trt1\n"
     ]
    }
   ],
   "source": [
    "print(ROOT_DIR)\n",
    "print(DATA_DIR)"
   ]
  },
  {
   "cell_type": "code",
   "execution_count": 3,
   "metadata": {},
   "outputs": [],
   "source": [
    "def GetFiles(directory, extension):\n",
    "    files = [{\"uri_arquivo\": f} for f in glob.glob(directory + \"/*.\" + extension) if os.stat(f).st_size > 0]\n",
    "    return files\n"
   ]
  },
  {
   "cell_type": "code",
   "execution_count": 4,
   "metadata": {},
   "outputs": [],
   "source": [
    "data_frames = []\n",
    "json_files = GetFiles(DATA_DIR, \"json\")\n"
   ]
  },
  {
   "cell_type": "code",
   "execution_count": 5,
   "metadata": {},
   "outputs": [
    {
     "data": {
      "text/plain": [
       "[{'uri_arquivo': '/media/pabloernesto/Series - Seagate Expansion Drive/CNJ-Hackathon/Data/base/justica_trabalho/processos-trt1/processos-trt1_1.json'},\n",
       " {'uri_arquivo': '/media/pabloernesto/Series - Seagate Expansion Drive/CNJ-Hackathon/Data/base/justica_trabalho/processos-trt1/processos-trt1_2.json'},\n",
       " {'uri_arquivo': '/media/pabloernesto/Series - Seagate Expansion Drive/CNJ-Hackathon/Data/base/justica_trabalho/processos-trt1/processos-trt1_3.json'},\n",
       " {'uri_arquivo': '/media/pabloernesto/Series - Seagate Expansion Drive/CNJ-Hackathon/Data/base/justica_trabalho/processos-trt1/processos-trt1_4.json'},\n",
       " {'uri_arquivo': '/media/pabloernesto/Series - Seagate Expansion Drive/CNJ-Hackathon/Data/base/justica_trabalho/processos-trt1/processos-trt1_5.json'},\n",
       " {'uri_arquivo': '/media/pabloernesto/Series - Seagate Expansion Drive/CNJ-Hackathon/Data/base/justica_trabalho/processos-trt1/processos-trt1_6.json'}]"
      ]
     },
     "execution_count": 5,
     "metadata": {},
     "output_type": "execute_result"
    }
   ],
   "source": [
    "json_files"
   ]
  },
  {
   "cell_type": "code",
   "execution_count": null,
   "metadata": {},
   "outputs": [],
   "source": [
    "for file in json_files:\n",
    "    data_frames.append(pd.read_json(file[\"uri_arquivo\"], lines=False, encoding=\"utf-8\"))\n",
    "    \n",
    "big_data = pd.concat(data_frames)    "
   ]
  },
  {
   "cell_type": "code",
   "execution_count": 13,
   "metadata": {},
   "outputs": [
    {
     "data": {
      "text/plain": [
       "[]"
      ]
     },
     "execution_count": 13,
     "metadata": {},
     "output_type": "execute_result"
    }
   ],
   "source": [
    "data_frames"
   ]
  },
  {
   "cell_type": "code",
   "execution_count": null,
   "metadata": {},
   "outputs": [],
   "source": [
    "big_data.head()"
   ]
  }
 ],
 "metadata": {
  "kernelspec": {
   "display_name": "Python [conda env:dataenv] *",
   "language": "python",
   "name": "conda-env-dataenv-py"
  },
  "language_info": {
   "codemirror_mode": {
    "name": "ipython",
    "version": 3
   },
   "file_extension": ".py",
   "mimetype": "text/x-python",
   "name": "python",
   "nbconvert_exporter": "python",
   "pygments_lexer": "ipython3",
   "version": "3.7.8"
  }
 },
 "nbformat": 4,
 "nbformat_minor": 4
}
